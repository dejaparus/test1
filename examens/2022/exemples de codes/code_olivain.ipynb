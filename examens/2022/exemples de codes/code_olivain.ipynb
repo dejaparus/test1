{
 "cells": [
  {
   "cell_type": "code",
   "execution_count": 1,
   "metadata": {},
   "outputs": [
    {
     "name": "stdout",
     "output_type": "stream",
     "text": [
      "Running Metropolis Hastings algorithm...\n"
     ]
    },
    {
     "data": {
      "text/plain": [
       "array([0.96608154, 0.64581149, 1.0004907 , 1.18008425, 0.4237604 ,\n",
       "       1.02111554, 1.2244141 , 0.97066469, 1.07907842, 1.34031348])"
      ]
     },
     "execution_count": 1,
     "metadata": {},
     "output_type": "execute_result"
    }
   ],
   "source": [
    "import numpy as np\n",
    "import scipy.stats as st\n",
    "\n",
    "data = np.random.weibull(5, size=10)  # assumes scale is 1\n",
    "data"
   ]
  },
  {
   "cell_type": "code",
   "execution_count": null,
   "metadata": {},
   "outputs": [],
   "source": [
    "def log_density_weibull(data, theta):\n",
    "    return 0\n",
    "\n",
    "def GammaFunction(x):\n",
    "    #euler gamma function\n",
    "    return 0"
   ]
  },
  {
   "cell_type": "code",
   "execution_count": null,
   "metadata": {},
   "outputs": [],
   "source": [
    "gamma = 0.6 # euler constant\n",
    "\n",
    "gen_instr = lambda beta: st.norm(loc=beta, scale=1)\n",
    "likelihood = lambda beta: log_density_weibull(data, beta)\n",
    "prior = lambda beta: np.log(np.exp(-gamma/beta) / beta**2 / GammaFunction(1+1/beta))  # lambda_1 =1"
   ]
  },
  {
   "cell_type": "code",
   "execution_count": null,
   "metadata": {},
   "outputs": [],
   "source": [
    "def metropolis_hastings(start_at, likelihood, prior, gen_instr, n_iter=1000):\n",
    "    \"\"\"\n",
    "    :param likelihood: fct theta -> log( f(x|theta) )\n",
    "    :param prior: fct theta -> log( pi(theta) )\n",
    "    :param gen_instr: fct theta -> distr( . |theta)\n",
    "    \"\"\"\n",
    "\n",
    "    thetas = []\n",
    "    accepted_rate = []\n",
    "\n",
    "    theta = start_at\n",
    "    for i in range(n_iter):\n",
    "        sampling_instr = gen_instr(theta)  # build the instrumental rho(theta | theta_k)\n",
    "        candidate = sampling_instr.rvs()  # sample the instr\n",
    "\n",
    "        candidate_instr = gen_instr(theta)  # build rho(theta_k | candidate)\n",
    "\n",
    "        log_alpha = likelihood(candidate) + prior(candidate) - likelihood(theta) - prior(theta) - sampling_instr.logpdf(candidate) + candidate_instr.logpdf(theta)\n",
    "\n",
    "        if np.log(np.random.uniform()) < log_alpha:\n",
    "            theta = candidate\n",
    "            accepted_rate.append(1)\n",
    "        else:\n",
    "            accepted_rate.append(0)\n",
    "        thetas.append(theta)\n",
    "    \n",
    "    return thetas, accepted_rate"
   ]
  }
 ],
 "metadata": {
  "interpreter": {
   "hash": "9ee6529a03aba3fa78a9d6ca37608ba23c293f6bffa10fad1d357cba710e999e"
  },
  "kernelspec": {
   "display_name": "Python 3.8.8",
   "language": "python",
   "name": "python3"
  },
  "language_info": {
   "codemirror_mode": {
    "name": "ipython",
    "version": 3
   },
   "file_extension": ".py",
   "mimetype": "text/x-python",
   "name": "python",
   "nbconvert_exporter": "python",
   "pygments_lexer": "ipython3",
   "version": "3.8.8"
  },
  "orig_nbformat": 4
 },
 "nbformat": 4,
 "nbformat_minor": 2
}
